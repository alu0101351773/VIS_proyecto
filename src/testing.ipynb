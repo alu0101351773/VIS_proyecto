{
 "cells": [
  {
   "cell_type": "code",
   "execution_count": 2,
   "metadata": {},
   "outputs": [],
   "source": [
    "import pandas as pd\n",
    "import geopandas as gpd"
   ]
  },
  {
   "cell_type": "code",
   "execution_count": 8,
   "metadata": {},
   "outputs": [
    {
     "data": {
      "text/plain": [
       "array(['I. CIERTAS ENFERMEDADES INFECCIOSAS Y PARASITARIAS',\n",
       "       'II. TUMORES [NEOPLASIAS]',\n",
       "       'III. ENFS. DE SANGRE Y DE ÓRGS. HEMATOPOYÉTICOS; Y CIERTOS TRASTS. QUE AFECTAN MECAN. INMUNIDAD',\n",
       "       'IV. ENFERMEDADES ENDOCRINAS; NUTRICIONALES Y METABÓLICAS',\n",
       "       'V. TRASTORNOS MENTALES Y DEL COMPORTAMIENTO',\n",
       "       'VI. ENFERMEDADES DEL SISTEMA NERVIOSO',\n",
       "       'VII. ENFERMEDADES DEL OJO Y SUS ANEXOS',\n",
       "       'VIII. ENFERMEDADES DEL OÍDO Y DE LA APÓFISIS MASTOIDES',\n",
       "       'IX. ENFERMEDADES DEL SISTEMA CIRCULATORIO',\n",
       "       'X. ENFERMEDADES DEL SISTEMA RESPIRATORIO',\n",
       "       'XI. ENFERMEDADES DEL SISTEMA DIGESTIVO',\n",
       "       'XII. ENFERMEDADES DE LA PIEL Y DEL TEJIDO SUBCUTÁNEO',\n",
       "       'XIII. ARTROPATÍAS',\n",
       "       'XIV. ENFERMEDADES DEL SISTEMA GENITOURINARIO',\n",
       "       'XV. EMBARAZO; PARTO Y PUERPERIO',\n",
       "       'XVI. CIERTAS AFECCIONES ORIGINADAS EN EL PERÍODO PERINATAL',\n",
       "       'XVII. MALFORMACIONES CONGÉNITAS; DEFORMIDADES Y ANOMALÍAS CROMOSÓMICAS',\n",
       "       'XVIII. SÍNTOMAS; SIGNOS Y HALLAZGOS ANORMALES CLÍNICOS Y DE LABORATORIO; NO CLASIFS. OTRA PARTE',\n",
       "       'XX. CAUSAS EXTERNAS DE MORBILIDAD Y DE MORTALIDAD'], dtype=object)"
      ]
     },
     "execution_count": 8,
     "metadata": {},
     "output_type": "execute_result"
    }
   ],
   "source": [
    "df = pd.read_csv('../data/defunciones/DefCanariaStatTasa.csv').drop(columns = 'Unnamed: 0')\n",
    "\n",
    "df['Tipo'].unique()"
   ]
  }
 ],
 "metadata": {
  "kernelspec": {
   "display_name": "Python 3",
   "language": "python",
   "name": "python3"
  },
  "language_info": {
   "codemirror_mode": {
    "name": "ipython",
    "version": 3
   },
   "file_extension": ".py",
   "mimetype": "text/x-python",
   "name": "python",
   "nbconvert_exporter": "python",
   "pygments_lexer": "ipython3",
   "version": "3.11.4"
  }
 },
 "nbformat": 4,
 "nbformat_minor": 2
}
