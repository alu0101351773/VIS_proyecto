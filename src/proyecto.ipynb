{
 "cells": [
  {
   "cell_type": "markdown",
   "metadata": {},
   "source": [
    "# Visualización: proyecto"
   ]
  },
  {
   "cell_type": "markdown",
   "metadata": {},
   "source": [
    "## Conjuntos de datos"
   ]
  },
  {
   "cell_type": "code",
   "execution_count": 2,
   "metadata": {},
   "outputs": [],
   "source": [
    "import pandas as pd\n",
    "import geopandas as gpd\n",
    "import numpy as np"
   ]
  },
  {
   "cell_type": "markdown",
   "metadata": {},
   "source": [
    "### `DefuncionesCanarias`"
   ]
  },
  {
   "cell_type": "code",
   "execution_count": 26,
   "metadata": {},
   "outputs": [
    {
     "data": {
      "text/html": [
       "<div>\n",
       "<style scoped>\n",
       "    .dataframe tbody tr th:only-of-type {\n",
       "        vertical-align: middle;\n",
       "    }\n",
       "\n",
       "    .dataframe tbody tr th {\n",
       "        vertical-align: top;\n",
       "    }\n",
       "\n",
       "    .dataframe thead th {\n",
       "        text-align: right;\n",
       "    }\n",
       "</style>\n",
       "<table border=\"1\" class=\"dataframe\">\n",
       "  <thead>\n",
       "    <tr style=\"text-align: right;\">\n",
       "      <th></th>\n",
       "      <th>Municipio</th>\n",
       "      <th>Año</th>\n",
       "      <th>Sexo</th>\n",
       "      <th>Tipo</th>\n",
       "      <th>Defunciones</th>\n",
       "    </tr>\n",
       "  </thead>\n",
       "  <tbody>\n",
       "    <tr>\n",
       "      <th>0</th>\n",
       "      <td>Arrecife</td>\n",
       "      <td>2021</td>\n",
       "      <td>Hombres</td>\n",
       "      <td>I. CIERTAS ENFERMEDADES INFECCIOSAS Y PARASITA...</td>\n",
       "      <td>37.28</td>\n",
       "    </tr>\n",
       "    <tr>\n",
       "      <th>1</th>\n",
       "      <td>Haría</td>\n",
       "      <td>2021</td>\n",
       "      <td>Hombres</td>\n",
       "      <td>I. CIERTAS ENFERMEDADES INFECCIOSAS Y PARASITA...</td>\n",
       "      <td>0.00</td>\n",
       "    </tr>\n",
       "    <tr>\n",
       "      <th>2</th>\n",
       "      <td>San Bartolomé</td>\n",
       "      <td>2021</td>\n",
       "      <td>Hombres</td>\n",
       "      <td>I. CIERTAS ENFERMEDADES INFECCIOSAS Y PARASITA...</td>\n",
       "      <td>21.09</td>\n",
       "    </tr>\n",
       "    <tr>\n",
       "      <th>3</th>\n",
       "      <td>Teguise</td>\n",
       "      <td>2021</td>\n",
       "      <td>Hombres</td>\n",
       "      <td>I. CIERTAS ENFERMEDADES INFECCIOSAS Y PARASITA...</td>\n",
       "      <td>17.14</td>\n",
       "    </tr>\n",
       "    <tr>\n",
       "      <th>4</th>\n",
       "      <td>Tías</td>\n",
       "      <td>2021</td>\n",
       "      <td>Hombres</td>\n",
       "      <td>I. CIERTAS ENFERMEDADES INFECCIOSAS Y PARASITA...</td>\n",
       "      <td>46.80</td>\n",
       "    </tr>\n",
       "    <tr>\n",
       "      <th>...</th>\n",
       "      <td>...</td>\n",
       "      <td>...</td>\n",
       "      <td>...</td>\n",
       "      <td>...</td>\n",
       "      <td>...</td>\n",
       "    </tr>\n",
       "    <tr>\n",
       "      <th>9513</th>\n",
       "      <td>Tacoronte</td>\n",
       "      <td>2019</td>\n",
       "      <td>Mujeres</td>\n",
       "      <td>XX. CAUSAS EXTERNAS DE MORBILIDAD Y DE MORTALIDAD</td>\n",
       "      <td>32.85</td>\n",
       "    </tr>\n",
       "    <tr>\n",
       "      <th>9514</th>\n",
       "      <td>Tanque (El)</td>\n",
       "      <td>2019</td>\n",
       "      <td>Mujeres</td>\n",
       "      <td>XX. CAUSAS EXTERNAS DE MORBILIDAD Y DE MORTALIDAD</td>\n",
       "      <td>0.00</td>\n",
       "    </tr>\n",
       "    <tr>\n",
       "      <th>9515</th>\n",
       "      <td>Tegueste</td>\n",
       "      <td>2019</td>\n",
       "      <td>Mujeres</td>\n",
       "      <td>XX. CAUSAS EXTERNAS DE MORBILIDAD Y DE MORTALIDAD</td>\n",
       "      <td>0.00</td>\n",
       "    </tr>\n",
       "    <tr>\n",
       "      <th>9516</th>\n",
       "      <td>Victoria de Acentejo (La)</td>\n",
       "      <td>2019</td>\n",
       "      <td>Mujeres</td>\n",
       "      <td>XX. CAUSAS EXTERNAS DE MORBILIDAD Y DE MORTALIDAD</td>\n",
       "      <td>0.00</td>\n",
       "    </tr>\n",
       "    <tr>\n",
       "      <th>9517</th>\n",
       "      <td>Vilaflor</td>\n",
       "      <td>2019</td>\n",
       "      <td>Mujeres</td>\n",
       "      <td>XX. CAUSAS EXTERNAS DE MORBILIDAD Y DE MORTALIDAD</td>\n",
       "      <td>0.00</td>\n",
       "    </tr>\n",
       "  </tbody>\n",
       "</table>\n",
       "<p>9518 rows × 5 columns</p>\n",
       "</div>"
      ],
      "text/plain": [
       "                      Municipio   Año     Sexo  \\\n",
       "0                      Arrecife  2021  Hombres   \n",
       "1                         Haría  2021  Hombres   \n",
       "2                 San Bartolomé  2021  Hombres   \n",
       "3                       Teguise  2021  Hombres   \n",
       "4                          Tías  2021  Hombres   \n",
       "...                         ...   ...      ...   \n",
       "9513                  Tacoronte  2019  Mujeres   \n",
       "9514                Tanque (El)  2019  Mujeres   \n",
       "9515                   Tegueste  2019  Mujeres   \n",
       "9516  Victoria de Acentejo (La)  2019  Mujeres   \n",
       "9517                   Vilaflor  2019  Mujeres   \n",
       "\n",
       "                                                   Tipo  Defunciones  \n",
       "0     I. CIERTAS ENFERMEDADES INFECCIOSAS Y PARASITA...        37.28  \n",
       "1     I. CIERTAS ENFERMEDADES INFECCIOSAS Y PARASITA...         0.00  \n",
       "2     I. CIERTAS ENFERMEDADES INFECCIOSAS Y PARASITA...        21.09  \n",
       "3     I. CIERTAS ENFERMEDADES INFECCIOSAS Y PARASITA...        17.14  \n",
       "4     I. CIERTAS ENFERMEDADES INFECCIOSAS Y PARASITA...        46.80  \n",
       "...                                                 ...          ...  \n",
       "9513  XX. CAUSAS EXTERNAS DE MORBILIDAD Y DE MORTALIDAD        32.85  \n",
       "9514  XX. CAUSAS EXTERNAS DE MORBILIDAD Y DE MORTALIDAD         0.00  \n",
       "9515  XX. CAUSAS EXTERNAS DE MORBILIDAD Y DE MORTALIDAD         0.00  \n",
       "9516  XX. CAUSAS EXTERNAS DE MORBILIDAD Y DE MORTALIDAD         0.00  \n",
       "9517  XX. CAUSAS EXTERNAS DE MORBILIDAD Y DE MORTALIDAD         0.00  \n",
       "\n",
       "[9518 rows x 5 columns]"
      ]
     },
     "metadata": {},
     "output_type": "display_data"
    }
   ],
   "source": [
    "df_defun = pd.read_csv('../data/defunciones/DefCanariaStatTasa.csv').drop(columns = 'Unnamed: 0')\n",
    "\n",
    "# Rellenar los registros de puntos con 0\n",
    "df_defun['Defunciones'].replace(\n",
    "    to_replace = r'^\\.+$',\n",
    "    value = 0,\n",
    "    regex = True,\n",
    "    inplace = True\n",
    ")\n",
    "\n",
    "# Eliminar los posibles puntos de centena intermedios\n",
    "df_defun['Defunciones'] = df_defun['Defunciones'].str.replace('.','')\n",
    "\n",
    "# Sustituye las comas decimales por puntos decimales\n",
    "df_defun['Defunciones'] = df_defun['Defunciones'].str.replace(',','.')\n",
    "\n",
    "# Convertir el tipo de dato a numérico\n",
    "df_defun['Defunciones'] = df_defun['Defunciones'].astype(float)\n",
    "\n",
    "# Eliminar los espacios sobrantes en los municipios\n",
    "df_defun['Municipio'] = df_defun['Municipio'].str.strip()\n",
    "\n",
    "display(df_defun)"
   ]
  },
  {
   "cell_type": "markdown",
   "metadata": {},
   "source": [
    "### `Poblacion`"
   ]
  },
  {
   "cell_type": "markdown",
   "metadata": {},
   "source": [
    "## Historia"
   ]
  }
 ],
 "metadata": {
  "kernelspec": {
   "display_name": "Python 3",
   "language": "python",
   "name": "python3"
  },
  "language_info": {
   "codemirror_mode": {
    "name": "ipython",
    "version": 3
   },
   "file_extension": ".py",
   "mimetype": "text/x-python",
   "name": "python",
   "nbconvert_exporter": "python",
   "pygments_lexer": "ipython3",
   "version": "3.11.4"
  }
 },
 "nbformat": 4,
 "nbformat_minor": 2
}
